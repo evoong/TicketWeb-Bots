{
 "cells": [
  {
   "cell_type": "code",
   "execution_count": 1,
   "metadata": {},
   "outputs": [],
   "source": [
    "from selenium import webdriver\n",
    "from selenium.webdriver.common.by import By\n",
    "from selenium.webdriver.support.ui import WebDriverWait\n",
    "from selenium.webdriver.support import expected_conditions as EC\n",
    "from selenium.webdriver.common.keys import Keys\n",
    "from selenium.webdriver.common.action_chains import ActionChains\n",
    "from selenium.webdriver.support.ui import Select\n",
    "from datetime import datetime\n",
    "from selenium.webdriver.chrome.options import Options\n",
    "from selenium_recaptcha import Recaptcha_Solver\n",
    "\n",
    "\n",
    "import time\n",
    "start = time.time()"
   ]
  },
  {
   "cell_type": "code",
   "execution_count": 2,
   "metadata": {},
   "outputs": [],
   "source": [
    "import json\n",
    "\n",
    "\n",
    "# Read the JSON file\n",
    "with open('ticketweb_info.json') as file:\n",
    "    data = json.load(file)\n",
    "\n",
    "# Assign the values from the JSON to variables\n",
    "has_promo = data['has_promo']\n",
    "code = data['code']\n",
    "email = data['email']\n",
    "password = data['password']\n",
    "credit_num = data['credit_num']\n",
    "month = data['month']\n",
    "year = data['year']\n",
    "sec = data['sec']\n",
    "url = data['url']\n",
    "hour = data['hour']\n",
    "min = data['min']"
   ]
  },
  {
   "cell_type": "code",
   "execution_count": 3,
   "metadata": {},
   "outputs": [],
   "source": [
    "test_ua = 'Mozilla/5.0 (Windows NT 4.0; WOW64) AppleWebKit/537.36 (KHTML, like Gecko) Chrome/37.0.2049.0 Safari/537.36'\n",
    "\n",
    "options = Options()\n",
    "\n",
    "# options.add_argument(\"--headless\")  # Remove this if you want to see the browser (Headless makes the chromedriver not have a GUI)\n",
    "options.add_argument(\"--window-size=1920,1080\")\n",
    "\n",
    "options.add_argument(f'--user-agent={test_ua}')\n",
    "\n",
    "options.add_argument('--no-sandbox')\n",
    "options.add_argument(\"--disable-extensions\")"
   ]
  },
  {
   "cell_type": "code",
   "execution_count": 11,
   "metadata": {},
   "outputs": [],
   "source": [
    "current_time = datetime.now()\n",
    "\n",
    "# # Check if it's 10 AM\n",
    "# while not (current_time.hour >= hour-1 and current_time.minute >= 55):\n",
    "#        current_time = datetime.now()\n",
    "\n",
    "driver = webdriver.Chrome(options = options)  # or your browser of choice\n",
    "driver.get(\"https://www.ticketweb.ca/twlogin\")\n",
    "driver.find_element(By.XPATH, \"//*[@id='username']\").send_keys(email)\n",
    "driver.find_element(By.XPATH, \"//*[@id='login_password']\").send_keys(password)\n",
    "driver.find_element(By.XPATH, \"//*[@id='loginbtn']\").click()"
   ]
  },
  {
   "cell_type": "code",
   "execution_count": 5,
   "metadata": {},
   "outputs": [],
   "source": [
    "current_time = datetime.now()\n",
    "\n",
    "# Check if it's 10 AM\n",
    "# while not (current_time.hour >= hour and current_time.minute >= min):\n",
    "#        current_time = datetime.now()\n"
   ]
  },
  {
   "cell_type": "code",
   "execution_count": 12,
   "metadata": {},
   "outputs": [],
   "source": [
    "# enters promo code\n",
    "driver.get(url)\n",
    "if has_promo:\n",
    "    element = driver.find_element(By.CSS_SELECTOR, \"#edp_accessCodeTxt\")\n",
    "    element.send_keys(code + Keys.ENTER)\n",
    "\n"
   ]
  },
  {
   "cell_type": "code",
   "execution_count": 7,
   "metadata": {},
   "outputs": [],
   "source": [
    "#adds to cart\n",
    "\n",
    "\n",
    "add_tickets = driver.find_elements(By.CLASS_NAME, \"btn-circle\")\n",
    "for e in add_tickets:\n",
    "    if \"Increase\" in e.get_attribute(\"Title\"):\n",
    "        WebDriverWait(driver, 5).until(\n",
    "            EC.element_to_be_clickable((By.CLASS_NAME, \"btn-circle\"))\n",
    "        )\n",
    "        for i in range(4):\n",
    "            e.click()\n",
    "        break\n"
   ]
  },
  {
   "cell_type": "code",
   "execution_count": 8,
   "metadata": {},
   "outputs": [],
   "source": [
    "try:\n",
    "    solver = Recaptcha_Solver(\n",
    "    driver=driver, # Your Web Driver\n",
    "    ffmpeg_path='', # Optional. If does not exists, it will automatically download.\n",
    "    log=1 # If you want to view the progress.\n",
    "    )\n",
    "    driver.switch_to.default_content()\n",
    "\n",
    "    driver.find_element(By.XPATH, \".//iframe[@title='reCAPTCHA']\")\n",
    "    driver.switch_to.frame(driver.find_element(By.XPATH, \".//iframe[@title='reCAPTCHA']\"))\n",
    "    if len(driver.find_elements(By.XPATH, \"//*[@id='recaptcha-label']\")) > 0:\n",
    "        driver.find_element(By.XPATH, \"//*[@id='recaptcha-label']\").click()\n",
    "    if len(driver.find_elements(By.XPATH, \"//*[@id='recaptcha-anchor']\")) > 0 :\n",
    "        if driver.find_element(By.XPATH, \"//*[@id='recaptcha-anchor']\").get_attribute(\"aria-checked\") !=\"true\" :  \n",
    "            solver.request_audio_version()\n",
    "            solver.solve_audio_captcha()\n",
    "    driver.switch_to.default_content()\n",
    "    time.sleep(1)\n",
    "    driver.find_element(By.CSS_SELECTOR, \"#edp_checkout_btn\").send_keys(Keys.ENTER)\n",
    "except:\n",
    "    driver.switch_to.default_content()\n",
    "    time.sleep(1)\n",
    "    driver.find_element(By.CSS_SELECTOR, \"#edp_checkout_btn\").send_keys(Keys.ENTER)\n",
    "\n"
   ]
  },
  {
   "cell_type": "code",
   "execution_count": 9,
   "metadata": {},
   "outputs": [],
   "source": [
    "## billing details\n",
    "time.sleep(1)\n",
    "driver.find_element(By.XPATH, '//*[@id=\"termsOfUseCheckBox\"]').click()\n",
    "driver.find_element(By.XPATH, \"//*[@id='btn_checkout_save']\").click()"
   ]
  },
  {
   "cell_type": "code",
   "execution_count": 10,
   "metadata": {},
   "outputs": [
    {
     "ename": "TimeoutException",
     "evalue": "Message: \nStacktrace:\n\tGetHandleVerifier [0x00007FF62BC39412+29090]\n\t(No symbol) [0x00007FF62BBAE239]\n\t(No symbol) [0x00007FF62BA6B1DA]\n\t(No symbol) [0x00007FF62BABEFE7]\n\t(No symbol) [0x00007FF62BABF23C]\n\t(No symbol) [0x00007FF62BB097C7]\n\t(No symbol) [0x00007FF62BAE672F]\n\t(No symbol) [0x00007FF62BB065A2]\n\t(No symbol) [0x00007FF62BAE6493]\n\t(No symbol) [0x00007FF62BAB09D1]\n\t(No symbol) [0x00007FF62BAB1B31]\n\tGetHandleVerifier [0x00007FF62BF5871D+3302573]\n\tGetHandleVerifier [0x00007FF62BFA4243+3612627]\n\tGetHandleVerifier [0x00007FF62BF9A417+3572135]\n\tGetHandleVerifier [0x00007FF62BCF5EB6+801862]\n\t(No symbol) [0x00007FF62BBB945F]\n\t(No symbol) [0x00007FF62BBB4FB4]\n\t(No symbol) [0x00007FF62BBB5140]\n\t(No symbol) [0x00007FF62BBA461F]\n\tBaseThreadInitThunk [0x00007FFFC7CB7374+20]\n\tRtlUserThreadStart [0x00007FFFC825CC91+33]\n",
     "output_type": "error",
     "traceback": [
      "\u001b[1;31m---------------------------------------------------------------------------\u001b[0m",
      "\u001b[1;31mTimeoutException\u001b[0m                          Traceback (most recent call last)",
      "Cell \u001b[1;32mIn[10], line 4\u001b[0m\n\u001b[0;32m      1\u001b[0m \u001b[38;5;66;03m# ## credit details\u001b[39;00m\n\u001b[1;32m----> 4\u001b[0m \u001b[43mWebDriverWait\u001b[49m\u001b[43m(\u001b[49m\u001b[43mdriver\u001b[49m\u001b[43m,\u001b[49m\u001b[43m \u001b[49m\u001b[38;5;241;43m10\u001b[39;49m\u001b[43m)\u001b[49m\u001b[38;5;241;43m.\u001b[39;49m\u001b[43muntil\u001b[49m\u001b[43m(\u001b[49m\n\u001b[0;32m      5\u001b[0m \u001b[43m    \u001b[49m\u001b[43mEC\u001b[49m\u001b[38;5;241;43m.\u001b[39;49m\u001b[43mframe_to_be_available_and_switch_to_it\u001b[49m\u001b[43m(\u001b[49m\u001b[43m(\u001b[49m\u001b[43mBy\u001b[49m\u001b[38;5;241;43m.\u001b[39;49m\u001b[43mXPATH\u001b[49m\u001b[43m,\u001b[49m\u001b[43m \u001b[49m\u001b[38;5;124;43m'\u001b[39;49m\u001b[38;5;124;43m/html/body/div[1]/div[46]/div/div/div[2]/div/div[1]/iframe\u001b[39;49m\u001b[38;5;124;43m'\u001b[39;49m\u001b[43m)\u001b[49m\u001b[43m)\u001b[49m\u001b[43m)\u001b[49m\n\u001b[0;32m      6\u001b[0m driver\u001b[38;5;241m.\u001b[39mfind_element(By\u001b[38;5;241m.\u001b[39mXPATH, \u001b[38;5;124m\"\u001b[39m\u001b[38;5;124m//*[@id=\u001b[39m\u001b[38;5;124m'\u001b[39m\u001b[38;5;124mcard_type_003\u001b[39m\u001b[38;5;124m'\u001b[39m\u001b[38;5;124m]\u001b[39m\u001b[38;5;124m\"\u001b[39m)\u001b[38;5;241m.\u001b[39mclick()\n\u001b[0;32m      8\u001b[0m driver\u001b[38;5;241m.\u001b[39mfind_element(By\u001b[38;5;241m.\u001b[39mXPATH, \u001b[38;5;124m\"\u001b[39m\u001b[38;5;124m//*[@id=\u001b[39m\u001b[38;5;124m'\u001b[39m\u001b[38;5;124mcard_number\u001b[39m\u001b[38;5;124m'\u001b[39m\u001b[38;5;124m]\u001b[39m\u001b[38;5;124m\"\u001b[39m)\u001b[38;5;241m.\u001b[39msend_keys(credit_num)\n",
      "File \u001b[1;32mc:\\Python312\\Lib\\site-packages\\selenium\\webdriver\\support\\wait.py:105\u001b[0m, in \u001b[0;36mWebDriverWait.until\u001b[1;34m(self, method, message)\u001b[0m\n\u001b[0;32m    103\u001b[0m     \u001b[38;5;28;01mif\u001b[39;00m time\u001b[38;5;241m.\u001b[39mmonotonic() \u001b[38;5;241m>\u001b[39m end_time:\n\u001b[0;32m    104\u001b[0m         \u001b[38;5;28;01mbreak\u001b[39;00m\n\u001b[1;32m--> 105\u001b[0m \u001b[38;5;28;01mraise\u001b[39;00m TimeoutException(message, screen, stacktrace)\n",
      "\u001b[1;31mTimeoutException\u001b[0m: Message: \nStacktrace:\n\tGetHandleVerifier [0x00007FF62BC39412+29090]\n\t(No symbol) [0x00007FF62BBAE239]\n\t(No symbol) [0x00007FF62BA6B1DA]\n\t(No symbol) [0x00007FF62BABEFE7]\n\t(No symbol) [0x00007FF62BABF23C]\n\t(No symbol) [0x00007FF62BB097C7]\n\t(No symbol) [0x00007FF62BAE672F]\n\t(No symbol) [0x00007FF62BB065A2]\n\t(No symbol) [0x00007FF62BAE6493]\n\t(No symbol) [0x00007FF62BAB09D1]\n\t(No symbol) [0x00007FF62BAB1B31]\n\tGetHandleVerifier [0x00007FF62BF5871D+3302573]\n\tGetHandleVerifier [0x00007FF62BFA4243+3612627]\n\tGetHandleVerifier [0x00007FF62BF9A417+3572135]\n\tGetHandleVerifier [0x00007FF62BCF5EB6+801862]\n\t(No symbol) [0x00007FF62BBB945F]\n\t(No symbol) [0x00007FF62BBB4FB4]\n\t(No symbol) [0x00007FF62BBB5140]\n\t(No symbol) [0x00007FF62BBA461F]\n\tBaseThreadInitThunk [0x00007FFFC7CB7374+20]\n\tRtlUserThreadStart [0x00007FFFC825CC91+33]\n"
     ]
    }
   ],
   "source": [
    "# ## credit details\n",
    "\n",
    "\n",
    "WebDriverWait(driver, 10).until(\n",
    "    EC.frame_to_be_available_and_switch_to_it((By.XPATH, '/html/body/div[1]/div[46]/div/div/div[2]/div/div[1]/iframe')))\n",
    "driver.find_element(By.XPATH, \"//*[@id='card_type_003']\").click()\n",
    "\n",
    "driver.find_element(By.XPATH, \"//*[@id='card_number']\").send_keys(credit_num)\n",
    "# driver.find_element(By.XPATH, \"//*[@id='card_number']\").send_keys(\"lol\")\n",
    "\n",
    "dropdown = driver.find_element(By.XPATH, \"//*[@id='card_expiry_month']\")\n",
    "# Create a Select object for the dropdown\n",
    "select = Select(dropdown)\n",
    "\n",
    "# Select the option by its value\n",
    "select.select_by_value(month)\n",
    "dropdown = driver.find_element(By.XPATH, \"//*[@id='card_expiry_year']\")\n",
    "\n",
    "# Create a Select object for the dropdown\n",
    "select = Select(dropdown)\n",
    "\n",
    "# Select the option by its value\n",
    "select.select_by_value(year)\n",
    "\n",
    "\n",
    "driver.find_element(By.XPATH,\"//*[@id='card_cvn']\").send_keys(sec)\n",
    "# driver.find_element(By.XPATH, \"//*[@id='payment_details_lower']/input\").click()\n",
    "\n"
   ]
  },
  {
   "cell_type": "code",
   "execution_count": 41,
   "metadata": {},
   "outputs": [
    {
     "name": "stdout",
     "output_type": "stream",
     "text": [
      "15.417757034301758\n"
     ]
    }
   ],
   "source": [
    "end = time.time()\n",
    "print(end-start)"
   ]
  },
  {
   "cell_type": "code",
   "execution_count": null,
   "metadata": {},
   "outputs": [],
   "source": []
  },
  {
   "cell_type": "code",
   "execution_count": null,
   "metadata": {},
   "outputs": [],
   "source": []
  }
 ],
 "metadata": {
  "kernelspec": {
   "display_name": "Python 3",
   "language": "python",
   "name": "python3"
  },
  "language_info": {
   "codemirror_mode": {
    "name": "ipython",
    "version": 3
   },
   "file_extension": ".py",
   "mimetype": "text/x-python",
   "name": "python",
   "nbconvert_exporter": "python",
   "pygments_lexer": "ipython3",
   "version": "3.12.5"
  }
 },
 "nbformat": 4,
 "nbformat_minor": 2
}
